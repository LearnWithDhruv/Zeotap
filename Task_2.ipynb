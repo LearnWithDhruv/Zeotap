{
  "nbformat": 4,
  "nbformat_minor": 0,
  "metadata": {
    "colab": {
      "provenance": []
    },
    "kernelspec": {
      "name": "python3",
      "display_name": "Python 3"
    },
    "language_info": {
      "name": "python"
    }
  },
  "cells": [
    {
      "cell_type": "code",
      "execution_count": 1,
      "metadata": {
        "colab": {
          "base_uri": "https://localhost:8080/"
        },
        "id": "P4sDpn__iGGv",
        "outputId": "55213ca9-7765-476d-ae07-b1ca057918bb"
      },
      "outputs": [
        {
          "output_type": "stream",
          "name": "stdout",
          "text": [
            "  CustomerID SimilarCustomerID  SimilarityScore\n",
            "0      C0001             C0069         0.933006\n",
            "1      C0001             C0026         0.926038\n",
            "2      C0001             C0120         0.889766\n",
            "3      C0002             C0159         0.974678\n",
            "4      C0002             C0178         0.956297\n",
            "5      C0002             C0133         0.946672\n",
            "6      C0003             C0195         0.845733\n",
            "7      C0003             C0166         0.813676\n",
            "8      C0003             C0031         0.783814\n",
            "9      C0004             C0065         0.937042\n"
          ]
        }
      ],
      "source": [
        "import pandas as pd\n",
        "import numpy as np\n",
        "from sklearn.metrics.pairwise import cosine_similarity\n",
        "from sklearn.preprocessing import StandardScaler\n",
        "\n",
        "customers = pd.read_csv('Customers.csv')\n",
        "products = pd.read_csv('Products.csv')\n",
        "transactions = pd.read_csv('Transactions.csv')\n",
        "\n",
        "transactions = transactions.merge(products, on='ProductID', how='left')\n",
        "data = transactions.merge(customers, on='CustomerID', how='left')\n",
        "\n",
        "customer_spending = data.groupby('CustomerID')['TotalValue'].sum().reset_index()\n",
        "customer_spending.columns = ['CustomerID', 'TotalSpending']\n",
        "\n",
        "category_pref = data.pivot_table(index='CustomerID', columns='Category', values='Quantity', aggfunc='sum', fill_value=0)\n",
        "\n",
        "features = customer_spending.set_index('CustomerID').join(category_pref)\n",
        "\n",
        "scaler = StandardScaler()\n",
        "normalized_features = scaler.fit_transform(features)\n",
        "features_normalized_df = pd.DataFrame(normalized_features, index=features.index, columns=features.columns)\n",
        "\n",
        "similarity_matrix = cosine_similarity(features_normalized_df)\n",
        "similarity_df = pd.DataFrame(similarity_matrix, index=features.index, columns=features.index)\n",
        "\n",
        "def get_top_similar_customers(customer_id, similarity_df, n=3):\n",
        "    similar_customers = similarity_df.loc[customer_id].sort_values(ascending=False).iloc[1:n+1]\n",
        "    return [(idx, score) for idx, score in similar_customers.items()]\n",
        "\n",
        "lookalike_results = {}\n",
        "for customer_id in features.index[:20]:  # First 20 customers\n",
        "    lookalike_results[customer_id] = get_top_similar_customers(customer_id, similarity_df)\n",
        "\n",
        "lookalike_csv_data = []\n",
        "for customer_id, lookalikes in lookalike_results.items():\n",
        "    for similar_customer, score in lookalikes:\n",
        "        lookalike_csv_data.append({'CustomerID': customer_id, 'SimilarCustomerID': similar_customer, 'SimilarityScore': score})\n",
        "\n",
        "lookalike_df = pd.DataFrame(lookalike_csv_data)\n",
        "lookalike_df.to_csv('FirstName_LastName_Lookalike.csv', index=False)\n",
        "\n",
        "print(lookalike_df.head(10))\n"
      ]
    },
    {
      "cell_type": "code",
      "source": [],
      "metadata": {
        "id": "HpRrDD2FijLW"
      },
      "execution_count": null,
      "outputs": []
    }
  ]
}